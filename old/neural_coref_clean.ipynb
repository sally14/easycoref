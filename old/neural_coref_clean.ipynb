{
 "cells": [
  {
   "cell_type": "markdown",
   "metadata": {},
   "source": [
    "# Module Neural Coref\n",
    "\n",
    "## 1. Installation\n",
    "\n",
    "On installe et importe tout les packages nécessaires :"
   ]
  },
  {
   "cell_type": "code",
   "execution_count": null,
   "metadata": {},
   "outputs": [],
   "source": [
    "#!pip uninstall spacy \n",
    "#!pip uninstall neuralcoref\n",
    "#!pip install spacy==2.1.0\n",
    "#!pip install neuralcoref --no-binary neuralcoref\n",
    "\n",
    "#!python -m spacy download en\n",
    "\n",
    "#!pip install colorama"
   ]
  },
  {
   "cell_type": "code",
   "execution_count": 9,
   "metadata": {},
   "outputs": [
    {
     "name": "stderr",
     "output_type": "stream",
     "text": [
      "INFO:neuralcoref:Loading model from /Users/clementineabed-meraim/.neuralcoref_cache/neuralcoref\n"
     ]
    }
   ],
   "source": [
    "import pandas as pd\n",
    "import numpy as np\n",
    "\n",
    "import logging;\n",
    "logging.basicConfig(level=logging.INFO)\n",
    "import neuralcoref\n",
    "import spacy\n",
    "nlp = spacy.load('en')\n",
    "neuralcoref.add_to_pipe(nlp)\n",
    "\n",
    "from colorama import Fore, Back, Style"
   ]
  },
  {
   "cell_type": "markdown",
   "metadata": {},
   "source": [
    "On charge la base de donnée qui nous intéresse :"
   ]
  },
  {
   "cell_type": "code",
   "execution_count": 10,
   "metadata": {},
   "outputs": [],
   "source": [
    "ANNOTATED_DATA_PATH  = '/Users/clementineabed-meraim/Documents/Stage 2021 Medialab/SourcedStatements-master/annotated/annotated_examples.json'"
   ]
  },
  {
   "cell_type": "code",
   "execution_count": 11,
   "metadata": {},
   "outputs": [],
   "source": [
    "df = pd.read_json(ANNOTATED_DATA_PATH, orient='records', lines=True)\n",
    "#df.head()"
   ]
  },
  {
   "cell_type": "markdown",
   "metadata": {},
   "source": [
    "## 2. Fonctions préalables : passage de spans au strings\n",
    "\n",
    "Ces fonctions nous seront utiles pour manipuler les transitions de span (token) en chaîne de caractère et vice-versa."
   ]
  },
  {
   "cell_type": "code",
   "execution_count": 44,
   "metadata": {},
   "outputs": [],
   "source": [
    "def isprefixe(i,mot,texte): # vérifie si mot (str) a une occurrence dans texte en position i \n",
    "    B = True\n",
    "    j=0\n",
    "    while (j < len(mot)) and B:\n",
    "        if texte[i+j] != mot[j]:\n",
    "            B = False\n",
    "        j+= 1 \n",
    "    return B"
   ]
  },
  {
   "cell_type": "code",
   "execution_count": 43,
   "metadata": {},
   "outputs": [],
   "source": [
    "def positions_str(mention_str,texte): # retourne les positions d'occurences d'un mot (str) dans un texte\n",
    "    occ = []\n",
    "    for i in range(len(texte)-len(mention_str)+1):\n",
    "        if isprefixe(i,mention_str,texte): \n",
    "            occ.append(i)\n",
    "    return occ"
   ]
  },
  {
   "cell_type": "code",
   "execution_count": 60,
   "metadata": {},
   "outputs": [],
   "source": [
    "def position_str_to_span(start,end,texte): #renvoie la position en span à partir de la position en str (début et fin)\n",
    "    mention_str = texte[start:end]\n",
    "    mention_span = nlp(mention_str)\n",
    "\n",
    "    chaine = texte[0:end]\n",
    "    chain = nlp(chaine)\n",
    "\n",
    "    return (len(chain)-len(mention_span))\n"
   ]
  },
  {
   "cell_type": "code",
   "execution_count": 61,
   "metadata": {},
   "outputs": [],
   "source": [
    "def positions_span(mention_str,texte): # renvoie liste des positions en span d'une mention (str) (peut avoir plusieurs occurences)\n",
    "    occ1 = []\n",
    "    for i in positions_str(mention_str,texte): \n",
    "        #print(i)\n",
    "        chaine = texte[0:i+len(mention_str)]\n",
    "        mention_span = nlp(mention_str)\n",
    "        #print(mention_span)\n",
    "        #print(chaine)\n",
    "        chain = nlp(chaine)\n",
    "        occ1.append(len(chain)-len(mention_span))\n",
    " \n",
    "    return occ1"
   ]
  },
  {
   "cell_type": "code",
   "execution_count": 62,
   "metadata": {},
   "outputs": [],
   "source": [
    "def position_span_to_str(mention,texte): # prend un span et renvoie sa position correspondante en str dans le texte\n",
    "    mention_str = mention.text\n",
    "\n",
    "    span_position = mention.start \n",
    "    #print(mention.start)\n",
    "\n",
    "    liste_pos_str = positions_str(mention_str,texte) #fonction qui renvoie une liste des positions str d'une mention dans un texte\n",
    "    liste_pos_span = positions_span(mention_str,texte) #fonction qui renvoie une liste des positions token d'une mention dans un texte \n",
    "    #print(liste_pos_str)\n",
    "    #print(liste_pos_tok) \n",
    "\n",
    "    if span_position in liste_pos_span :\n",
    "        ind = liste_pos_span.index(span_position)\n",
    "        position_finale = liste_pos_str[ind]\n",
    "    \n",
    "    return position_finale #renvoie la position du span en str"
   ]
  },
  {
   "cell_type": "markdown",
   "metadata": {},
   "source": [
    "## 3. Prétraitement du dataframe :"
   ]
  },
  {
   "cell_type": "markdown",
   "metadata": {},
   "source": [
    "**Création de la colonne annotations_sources :**\n",
    "\n",
    "On filtre les dictionnaires annotations en ne gardant que les sources."
   ]
  },
  {
   "cell_type": "code",
   "execution_count": 17,
   "metadata": {},
   "outputs": [],
   "source": [
    "def filtrage(dataframe):  # crée une nouvelle colonne avec uniquement les labels de type \"source\"\n",
    "    dict_filtered = []\n",
    "    for liste_dico in dataframe['annotations'] : #on se place dans la liste de dictionnaire de chaque ligne du dataframe\n",
    "        new_liste_dico = [dico for dico in liste_dico if dico[\"label\"]== 14] #on filtre cette liste\n",
    "        dict_filtered.append(new_liste_dico)\n",
    "\n",
    "    dataframe['annotations_source'] = dict_filtered"
   ]
  },
  {
   "cell_type": "code",
   "execution_count": 18,
   "metadata": {},
   "outputs": [],
   "source": [
    "filtrage(df)"
   ]
  },
  {
   "cell_type": "markdown",
   "metadata": {},
   "source": [
    "**Création de la colonne spans :**\n",
    "\n",
    "Pour chaque texte, on regroupe les spans correspondant aux sources dans une liste."
   ]
  },
  {
   "cell_type": "code",
   "execution_count": 41,
   "metadata": {},
   "outputs": [],
   "source": [
    "def liste_span(dataframe):  #crée colonne des spans correspondant aux sources pour chaque texte\n",
    "    colonne_span = []\n",
    "    for i in range(len(dataframe)):\n",
    "        liste_span = []\n",
    "\n",
    "        texte = dataframe['text'][i]\n",
    "        nlp_texte = nlp(texte)\n",
    "\n",
    "        for dico in dataframe['annotations_source'][i]:\n",
    "            start = dico['start_offset']\n",
    "            end = dico['end_offset']\n",
    "\n",
    "            mention = texte[start:end]\n",
    "            nlp_mention = nlp(mention)\n",
    "\n",
    "            index = position_str_to_span(start,end,texte)\n",
    "            span = nlp_texte[index:index+len(nlp_mention)]\n",
    "            liste_span.append(span)\n",
    "    \n",
    "        colonne_span.append(liste_span)\n",
    "    #print(colonne_span)\n",
    "    dataframe['spans'] = colonne_span"
   ]
  },
  {
   "cell_type": "code",
   "execution_count": 20,
   "metadata": {},
   "outputs": [],
   "source": [
    "liste_span(df)"
   ]
  },
  {
   "cell_type": "code",
   "execution_count": 22,
   "metadata": {},
   "outputs": [],
   "source": [
    "#df.head()"
   ]
  },
  {
   "cell_type": "markdown",
   "metadata": {},
   "source": [
    "## 4. Fonction : chaîne de coréférences \n",
    "\n",
    "Une fois le dataframe prétraité, on peut construire une fonction qui, pour un texte donné (en ligne i du dataframe) renvoie les chaînes de coréférences des propos sourcés du texte (identifiés précédemment).\n",
    "\n",
    "\n",
    "**Fonctions préalables :**\n",
    "\n",
    "Tout d'abord, on construit une fonction renvoyant les chaînes de coréférence des propos sourcés (si elles existent) pour un texte donné (ligne i dans le dataframe)."
   ]
  },
  {
   "cell_type": "code",
   "execution_count": 27,
   "metadata": {},
   "outputs": [],
   "source": [
    "def liste_cluster(i,dataframe): \n",
    "    liste_main_span = []\n",
    "    liste_cluster = []\n",
    "\n",
    "    for span in dataframe['spans'][i]:\n",
    "        if span._.is_coref and span._.coref_cluster.main not in liste_main_span : # si le span est bien coréférent et pas déjà considéré\n",
    "            liste_main_span.append(span._.coref_cluster.main)\n",
    "            liste_cluster.append(span._.coref_cluster.mentions)\n",
    "\n",
    "    return liste_cluster\n"
   ]
  },
  {
   "cell_type": "markdown",
   "metadata": {},
   "source": [
    "Exemple d'utilisation de la fonction :"
   ]
  },
  {
   "cell_type": "code",
   "execution_count": 28,
   "metadata": {},
   "outputs": [
    {
     "name": "stdout",
     "output_type": "stream",
     "text": [
      "[Fauci, Fauci, he, Fauci, he, Fauci, Fauci, he, Chris Murphy, D-Conn., he, Trump, Trump, he, Robert Redfield, head of the Centers for Disease Control and Prevention, He, Murphy, Murphy, Fauci, Fauci, Fauci]\n"
     ]
    },
    {
     "data": {
      "text/plain": [
       "[[Fauci, Fauci, Fauci, he, Fauci, he, Fauci, Fauci, he],\n",
       " [the president, he, he],\n",
       " [Trump, Trump, Trump, Donald Trump, he],\n",
       " [Robert Redfield, head of the Centers for Disease Control and Prevention,\n",
       "  his,\n",
       "  He],\n",
       " [Murphy, Murphy, Murphy],\n",
       " [Fauci, Fauci, His, Fauci]]"
      ]
     },
     "execution_count": 28,
     "metadata": {},
     "output_type": "execute_result"
    }
   ],
   "source": [
    "nlp_texte = nlp(df['text'][1])\n",
    "print(df['spans'][1])\n",
    "liste_cluster(1,df)"
   ]
  },
  {
   "cell_type": "markdown",
   "metadata": {},
   "source": [
    "Neural Coref identifie parfois des spans qui se chevauchent : il ne faudrait en garder qu'un. On construit donc la fonction no_doublons, qui enlève les doublons de span dans les clusters de coréférence. Si deux spans se chevauchent dans le texte, on choisit de garder celui qui a le meilleur score de paire parmi tous ces scores de paires calculés."
   ]
  },
  {
   "cell_type": "code",
   "execution_count": 49,
   "metadata": {},
   "outputs": [],
   "source": [
    "def no_doublons(clusters): # à partir de l'ensemble des clusters de coref, renvoie les positions des mentions (span) a supprimer\n",
    "    liste_positions = []\n",
    "    liste_mentions = []\n",
    "    liste_mentions_a_suppr = []\n",
    "    for clust in clusters :\n",
    "        cluster = clust.mentions\n",
    "        \n",
    "        for mention in cluster:\n",
    "            liste_positions.append(pd.Interval(mention.start, mention.end)) #liste de tout les intervalles pris par les spans\n",
    "            liste_mentions.append(mention) #liste de tout les spans\n",
    "    #print(liste_positions)\n",
    "    #print(liste_mentions)\n",
    "\n",
    "        #on regarde si certains se chevauchent\n",
    "\n",
    "    for interval1 in liste_positions :\n",
    "        for interval2 in liste_positions :\n",
    "            if interval1.overlaps(interval2) and interval1 != interval2 :\n",
    "                #print(interval1,interval2)\n",
    "                i1 = liste_positions.index(interval1) #index du span dans la liste\n",
    "                i2 = liste_positions.index(interval2)\n",
    "                mention1 = liste_mentions[i1]\n",
    "                mention2 = liste_mentions[i2]\n",
    "\n",
    "                dico1 = mention1._.coref_scores\n",
    "                score1 = max(dico1.values())\n",
    "\n",
    "                dico2 = mention2._.coref_scores\n",
    "                score2 = max(dico2.values())\n",
    "                #print(score1,mention1)\n",
    "                #print(score2,mention2)\n",
    "\n",
    "                if score1 <= score2 and [mention1.start,mention1.end] not in liste_mentions_a_suppr :\n",
    "                    liste_mentions_a_suppr.append([mention1.start, mention1.end])\n",
    "                    #print(mention1)\n",
    "                elif score1 > score2 and [mention2.start,mention2.end] not in liste_mentions_a_suppr :\n",
    "                    liste_mentions_a_suppr.append([mention2.start, mention2.end])\n",
    "                    #print(mention2)\n",
    "\n",
    "    return(liste_mentions_a_suppr)"
   ]
  },
  {
   "cell_type": "markdown",
   "metadata": {},
   "source": [
    "Exemple d'utilisation de la fonction :"
   ]
  },
  {
   "cell_type": "code",
   "execution_count": 50,
   "metadata": {},
   "outputs": [
    {
     "name": "stdout",
     "output_type": "stream",
     "text": [
      "[[7, 8]]\n"
     ]
    }
   ],
   "source": [
    "texte = df['text'][1]\n",
    "texte_nlp = nlp(texte) \n",
    "print(no_doublons(texte_nlp._.coref_clusters))"
   ]
  },
  {
   "cell_type": "markdown",
   "metadata": {},
   "source": [
    "**On implémente alors la fonction qui affiche les clusters de coréférences pour les propos sourcés d'un texte donné du dataframe :**"
   ]
  },
  {
   "cell_type": "code",
   "execution_count": 65,
   "metadata": {},
   "outputs": [],
   "source": [
    "def coref(i,dataframe) : #Retourne la chaîne de coréférence pour le paragraphe i dans la base de données\n",
    "  texte = dataframe['text'][i].replace('\\n','. ')\n",
    "  texte_or = texte #texte original\n",
    "  nlp_texte = nlp(texte)\n",
    "  liste_charactere = [i for i in range(len(texte))]\n",
    "  liste_charactere_updated = [i for i in range(len(texte))]\n",
    "\n",
    "  color = 0 #couleur des caractères\n",
    "  colors = 240 #couleurs de fond\n",
    "\n",
    "  mentions_a_supp = no_doublons(nlp_texte._.coref_clusters)\n",
    "\n",
    "  #print(nlp_texte._.coref_clusters)\n",
    "\n",
    "  for cluster in liste_cluster(i,dataframe):\n",
    "\n",
    "    color += 1\n",
    "    nouveau_clust = [mention for mention in cluster if [mention.start,mention.end] not in mentions_a_supp]\n",
    "\n",
    "    if len(nouveau_clust)>1 : # un cluster avec un unique élément n'est pas une chaîne de coréférence\n",
    "      for mention in nouveau_clust :\n",
    "\n",
    "          mention_str = mention.text # mention en string\n",
    "\n",
    "          index_position_start = position_span_to_str(mention,texte_or) # position début de mention en string\n",
    "          position_start = liste_charactere_updated[index_position_start]\n",
    "          position_end = position_start+len(mention_str) # position de fin de mention en string\n",
    "\n",
    "          deb = texte[0: position_start] # texte jusqu'à la mention\n",
    "          fin = texte[position_end:] # fin du texte\n",
    "\n",
    "          texte = deb + f'\\033[38;5;{color}m' + f'\\x1b[48;5;{colors}m' + mention_str + '\\033[0;0m' + fin #on modifie texte en changeant la couleur de la mention\n",
    "          add1 = len(f'\\033[38;5;{color}m') + len(f'\\x1b[48;5;{colors}m')\n",
    "          add2 = len('\\033[0;0m')\n",
    "\n",
    "          for i in range(index_position_start,len(liste_charactere_updated)): # on update les positions des éléments du texte après ajout de add1\n",
    "            liste_charactere_updated[i] += add1\n",
    "            \n",
    "          for i in range(index_position_start+len(mention_str),len(liste_charactere_updated)): # on update les positions des éléments du texte après ajout de add2\n",
    "            liste_charactere_updated[i] += add2\n",
    "\n",
    "          \n",
    "  return texte"
   ]
  },
  {
   "cell_type": "code",
   "execution_count": 71,
   "metadata": {},
   "outputs": [
    {
     "name": "stdout",
     "output_type": "stream",
     "text": [
      "Hong Kong, with a population of around 7.5 million, had a total of 6,039 cases and 108 deaths as of Saturday, a low rate for any city. But the region’s recent setbacks underscore the challenges that the world will continue to face until there is a widely available vaccine . As cases have soared back to alarming levels in recent weeks, South Korea, Japan and Hong Kong have had to quickly recalibrate their strategies. Travel bubbles that were announced with great fanfare are now on hold. Weeks after reopening, schools have been shut again. Bars and restaurants are closing early or shifting to takeaway menus. “We need solidarity in this kind of situation, but as everyone knows, it’s not easy,” said Dr. Kim Woo-joo, an infectious disease specialist at Korea University in Seoul .\n"
     ]
    }
   ],
   "source": [
    "print(coref(0,df))"
   ]
  },
  {
   "cell_type": "markdown",
   "metadata": {},
   "source": [
    "Exemple d'utilisation de la fonction :"
   ]
  },
  {
   "cell_type": "code",
   "execution_count": 66,
   "metadata": {},
   "outputs": [
    {
     "name": "stdout",
     "output_type": "stream",
     "text": [
      "Social distancing restrictions meant some senators, Fauci and other witnesses participated by video conference from their homes and officers. Several senators attended the Washington hearing in person, but GOP Sen. Lamar Alexander led the meeting from his home in Tennessee. Here are six key points from the hearing: \u001b[38;5;1m\u001b[48;5;240mFauci\u001b[0;0m: Ignoring guidelines may lead to 'suffering and death' \u001b[38;5;1m\u001b[48;5;240mFauci\u001b[0;0m said not following federal guidelines such as testing people for infection, tracing their contacts and isolating them to prevent the disease from spreading could lead to some suffering and death” that could be avoided. Guidelines to states include waiting until cases have declined for at least two weeks before easing restrictions. Communities also have to be capable of adequately responding when the virus inevitably returns, \u001b[38;5;1m\u001b[48;5;240mhe\u001b[0;0m said. HEROES Act: Democrats' $3 trillion coronavirus stimulus proposal includes more $1,200 checks, money for state and local governments But \u001b[38;5;1m\u001b[48;5;240mFauci\u001b[0;0m warned that if states reopen without precautions, it presents a “real risk that you will trigger an outbreak,” which could hurt the economy again. “You can almost turn the clock back, rather than going forward,” \u001b[38;5;1m\u001b[48;5;240mhe\u001b[0;0m said. “That is my main concern.” \u001b[38;5;1m\u001b[48;5;240mFauci\u001b[0;0m on coronavirus : 'We don’t have it completely under control' Despite declines in infections and hospitalizations in some areas, \u001b[38;5;1m\u001b[48;5;240mFauci\u001b[0;0m warned about spikes and said the virus is nowhere near being contained. “We don’t have it completely under control,” \u001b[38;5;1m\u001b[48;5;240mhe\u001b[0;0m told Sen. Elizabeth Warren, D-Mass. Sen. Chris Murphy, D-Conn., criticized the contrast between health experts warning about the dangers of opening states too early mere hours after \u001b[38;5;3m\u001b[48;5;240mTrump\u001b[0;0m said the country prevailed against the virus. “This is infuriating to many of us because it comes hours after \u001b[38;5;2m\u001b[48;5;240mthe president\u001b[0;0m declared that we have prevailed over coronavirus , which I’m just going to tell you is going to make it harder on state leaders to keep social distancing restrictions in place,” \u001b[38;5;2m\u001b[48;5;240mhe\u001b[0;0m said. \u001b[38;5;3m\u001b[48;5;240mTrump\u001b[0;0m promoted the country’s testing Monday in a Rose Garden news conference, saying the 9 million tests so far made America a worldwide leader. “We have met the moment, and we have prevailed,” said Trump, who later said \u001b[38;5;2m\u001b[48;5;240mhe\u001b[0;0m meant the country prevailed on testing. \u001b[38;5;3m\u001b[48;5;240mTrump\u001b[0;0m going to PA: \u001b[38;5;3m\u001b[48;5;240mDonald Trump\u001b[0;0m to visit Allentown, Pennsylvania factory as \u001b[38;5;3m\u001b[48;5;240mhe\u001b[0;0m pushes message on reopening \u001b[38;5;5m\u001b[48;5;240mMurphy\u001b[0;0m also slammed the lack of detailed federal guidance as states begin to reopen. \u001b[38;5;4m\u001b[48;5;240mRobert Redfield, head of the Centers for Disease Control and Prevention\u001b[0;0m , said state officials could contact \u001b[38;5;4m\u001b[48;5;240mhis\u001b[0;0m agency with their questions. \u001b[38;5;4m\u001b[48;5;240mHe\u001b[0;0m said nationwide recommendations are under review and would be released soon. \u001b[38;5;5m\u001b[48;5;240mMurphy\u001b[0;0m said soon wasn't good enough. “You work for a president who is frankly undermining our efforts to comply with the guidance that you have given us,” \u001b[38;5;5m\u001b[48;5;240mMurphy\u001b[0;0m said. “Then the guidance you have provided is criminally vague.” \u001b[38;5;6m\u001b[48;5;240mFauci\u001b[0;0m: Finding a vaccine 'definitely not a long shot' \u001b[38;5;6m\u001b[48;5;240mFauci\u001b[0;0m expressed optimism Tuesday that a vaccine will be found for the coronavirus within a year or two. \u001b[38;5;6m\u001b[48;5;240mHis\u001b[0;0m confidence stemmed from the fact that most people can fight off the virus themselves, offering scientists an opportunity to devise a way to get the body to combat it better. “It’s definitely not a long shot,” \u001b[38;5;6m\u001b[48;5;240mFauci\u001b[0;0m said.\n"
     ]
    }
   ],
   "source": [
    "print(coref(1,df))"
   ]
  },
  {
   "cell_type": "code",
   "execution_count": 67,
   "metadata": {},
   "outputs": [
    {
     "name": "stdout",
     "output_type": "stream",
     "text": [
      "The history of humanity is the history of impatience. Not only do we want knowledge of the future, we want it when we want it. The Book of \u001b[38;5;2m\u001b[48;5;240mJob\u001b[0;0m condemns as prideful this desire for immediate attention. Speaking out of the whirlwind, \u001b[38;5;1m\u001b[48;5;240mGod\u001b[0;0m makes it clear that \u001b[38;5;1m\u001b[48;5;240mhe\u001b[0;0m is not a vending machine. \u001b[38;5;1m\u001b[48;5;240mHe\u001b[0;0m shows \u001b[38;5;1m\u001b[48;5;240mhis\u001b[0;0m face and reveals \u001b[38;5;1m\u001b[48;5;240mhis\u001b[0;0m plans when the time is ripe, not when the mood strikes us. We must learn to wait upon the Lord, the Bible tells us. Good luck with that, \u001b[38;5;2m\u001b[48;5;240mJob\u001b[0;0m no doubt grumbled. When the gods are silent, human beings take things into their own hands. In religions where the divine was thought to inscribe its messages in the natural world, specialists were taught to take auspices from the disposition of stars in the sky, from decks of cards, dice, a pile of sticks, a candle flame, a bowl of oily water, or the liver of some poor sheep. With these materials, battles could be planned, plagues predicted and bad marriages avoided. In those places where the gods were thought to communicate verbally with humans, oracles and prophets were designated to provide answers on demand. The most highly revered oracles in the ancient Greek world were the high priestesses at the Temple of Apollo at Delphi. When it came time to respond to a petitioner who had placed a question before her, the priestess would enter the inner sanctum and seat herself on a tripod erected over a crevice in the ground, out of which inebriating gases were thought to rise. These fumes paralyzed her rational faculties and put her in a trance of receptivity that allowed the god Apollo to speak through her in cryptic remarks and riddles. These would be interpreted by a second figure, the prophet, who answered the grateful petitioner in poetry or prose. It was a very successful start-up and made Delphi a wealthy town. Prophets today are less flamboyant. Former prime ministers do not, as a rule, sniff drugs before appearing on CNN. They sit meekly in the green room sipping mineral water before being called on to announce our fate. Augurs have given up on sheep livers and replaced them with big data and statistical modeling. The wonder is that we still cry out for their help, given that the future is full of surprises. Professional forecasters know this about the future, which is why in the small print of their reports they lay out all the assumptions that went into the forecast and the degree of statistical confidence one might have in particular estimates, given the data and research methods used. But harried journalists and public officials don’t read or comprehend the footnotes, and with the public baying for information, they understandably pass on the most striking estimates just to get through the day. Ancient augurs and prophets were in high-risk professions. When their predictions failed to materialize, many were executed by sovereigns or pulled apart by mobs. We see a bloodless version of this reaction today in the public’s declining confidence[https://www.pewresearch.org/fact-tank/2019/07/22/key-findings-about-americans-declining-trust-in-government-and-each-other/] in both the news media and the government. Take a banal example: snowstorms and school closings. A half century ago, when meteorological forecasting was less sophisticated, parents and children would not learn that classes were canceled until the storm began and it was announced on radio and television that very morning. We lived in harmless uncertainty, which for kids was thrilling. When snowflakes fell they even looked like manna from heaven. Today, mayors and school superintendents, putting their faith in the meteorologists, routinely announce closings a day or more in advance. If the storm fails to arrive, though, they are sharply criticized by parents who lost a day of work or had to find day care. And if an unforeseen storm paralyzes the city, leaving streets unsalted and children stranded at school, the reaction is far worse. More than one mayor has lost a re-election bid because of failed prophecies, victim of our collective overconfidence in human foresight. Our addiction to economic forecasting is far more consequential. Here the footnotes really do matter but politicians and the press encourage magical thinking. The candidate declares, My plan will create 205,000 new jobs, raise the Dow 317 points and lower the price of gasoline 15 cents. Two years later, the gloating headline reads: The President’s Unkept Promises. Stagnant growth, a bear market and war in the Middle East make re-election unlikely. Never mind that declining global demand slowed growth, that Wall Street is a drama queen and that a freakish tanker collision set off the war. A failed presidency is declared.\n"
     ]
    }
   ],
   "source": [
    "print(coref(2,df))"
   ]
  },
  {
   "cell_type": "code",
   "execution_count": 68,
   "metadata": {},
   "outputs": [
    {
     "name": "stdout",
     "output_type": "stream",
     "text": [
      "Associated Press Florida judge blocks state order for schools to reopen A Florida judge granted a temporary injunction Monday against the state's executive order requiring school districts to reopen schools during the pandemic, the Florida teachers union said. According to the Florida Teachers Association, Circuit Court Judge Charles Dodson granted its request to put a hold on the order issued in July by state Education Commissioner Richard Corcoran compelling schools to reopen. \u001b[38;5;1m\u001b[48;5;240mThe Florida Education Department\u001b[0;0m said \u001b[38;5;1m\u001b[48;5;240mit\u001b[0;0m could not immediately comment. Some districts in south Florida were given permission by the state to start the 2020-21 school year remotely because of high virus spread, but other districts had to begin in-person education, even if they did not want to. In one instance, the administration of Governor Ron DeSantis, a close ally of President Trump, threatened to withhold nearly $200 million from Hillsborough County if it carried out its plan to open remotely. The district changed its plan in light of the threat. Washington Post 7-day virus killer is cleared for American Airlines planes The Trump administration on Monday gave American Airlines emergency approval to deploy a new weapon against COVID -19: a surface coating that kills coronaviruses for as many as seven days. The Environmental Protection Agency issued the emergency declaration for Allied BioScience Inc.'s SurfaceWise2 product, allowing it to be used in some American Airlines planes and airport facilities, as well as two Texas locations of Total Orthopedics Sports & Spine. All three companies are based in Texas, which sought the exemption. This is a major, game-changing announcement for our efforts to combat coronavirus and COVID -19, EPA Administrator Andrew Wheeler said on a conference call. The move comes as the Trump administration seeks to propel emerging treatments and protections against the coronavirus , and as several companies race to deliver an effective, safe vaccine . Bloomberg News WWII ceremony in Hawaii limited to local veterans HONOLULU — A Pearl Harbor ceremony marking the 75th anniversary of the end of World War II — possibly the last opportunity for many elderly U.S. veterans to commemorate the day — will be limited to survivors of the war living in Hawaii because of coronavirus concerns. The plan before Friday had been to allow about 200 people, mostly WWII veterans, their families and government officials, to gather on the battleship USS Missouri, which hosted the Japanese surrender on Sept. 2, 1945 in Tokyo Bay. But an announcement made Friday night said that those planning to fly into the state are no longer invited in an effort to protect the aging veterans — mostly in their 90s — from COVID -19. Tony Vericella, executive director of the 75th WWII Commemoration Committee, said Monday organizers are working on new ways to honor those left out in a virtual setting. Associated Press\n"
     ]
    }
   ],
   "source": [
    "print(coref(3,df))"
   ]
  },
  {
   "cell_type": "code",
   "execution_count": 72,
   "metadata": {},
   "outputs": [
    {
     "name": "stdout",
     "output_type": "stream",
     "text": [
      "“This is a serious setback in a delicate stage of the recovery,” said \u001b[38;5;1m\u001b[48;5;240mDec Mullarkey, managing director of SLC Management in Wellesley\u001b[0;0m, though \u001b[38;5;1m\u001b[48;5;240mhe\u001b[0;0m cautioned that Trump's move may be a negotiating ploy. If \u001b[38;5;1m\u001b[48;5;240mhe\u001b[0;0m sticks with \u001b[38;5;1m\u001b[48;5;240mhis\u001b[0;0m decision to pause stimulus talks, Trump appears to believe that quickly pushing through \u001b[38;5;1m\u001b[48;5;240mhis\u001b[0;0m nomination of Barrett to the Supreme Court is politically smarter than striking a deal with Democrats on the economy. “The president seems to be betting that his supporters care more about the Supreme Court approval than the stimulus plan,” said Karen Firestone, CEO of Aureus Asset Management. And as Dan Kern, chief investment officer at TFC Financial in Boston, noted, “The lack of pandemic relief will hurt the economy, but major harm in terms of [economic] growth and the jobs market won't be fully reflected in economic releases until after the election.” The House last week passed a $2.2 trillion relief bill, down substantially from a $3.5 billion plan Democrats pushed through in May. The package included the resumption of $600-a-week enhanced unemployment benefit through January, a second round of $1,200 payments to most Americans, $25 billion to keep airline workers on the payroll, and billions for assistance with rent and mortgage bills. In \u001b[38;5;2m\u001b[48;5;240mhis\u001b[0;0m talks with Pelosi,Mnuchin made a counteroffer of $1.6 trillion, with the biggest difference being the GOP's proposal of $250 billion in aid for state and local governments, compared with the $436 billion sought by Democrats. \u001b[38;5;2m\u001b[48;5;240mMcConnell\u001b[0;0m told reporters \u001b[38;5;2m\u001b[48;5;240mhe\u001b[0;0m agreed with \u001b[38;5;3m\u001b[48;5;240mTrump\u001b[0;0m's position. Later in the evening, amid a furious blizzard of tweets and retweets, many on debunked claims about Hillary Clinton and the FBI , \u001b[38;5;3m\u001b[48;5;240mTrump\u001b[0;0m muddied the waters by saying \u001b[38;5;3m\u001b[48;5;240mhe\u001b[0;0m was willing to sign standalone bills picking off popular items included in the broader stimulus discussions. The measures \u001b[38;5;3m\u001b[48;5;240mhe\u001b[0;0m said \u001b[38;5;3m\u001b[48;5;240mhe\u001b[0;0m would support: another round of $1,200 stimulus checks, $25 billion in aid for airlines, and $135 billion for renewing the Paycheck Protection Program for small businesses. Delaying another stimulus package has huge implications for state budgets, which face looming deficits brought on by the pandemic. It also means that individual lawmakers facing voters in less than a month — like \u001b[38;5;3m\u001b[48;5;240mTrump\u001b[0;0m — will be unable to boast of a new round of stimulus money. Massachusetts, in particular, is bracing for a long economic recovery because it was hit hard by COVID -19, when it shut its economy in the spring to contain the virus. That led to the loss of more than 375,000 jobs from March to August, and the highest unemployment rate in the country in June and July. “President Trump's decision to halt negotiations to provide aid to states and municipalities is as mystifying as it is hurtful to those who need federal COVID -19 relief. People want help right now, not bluster,” Robert DeLeo, speaker of the Massachusetts House, said on Twitter . In a survey released Monday, the National Association of Business Economists said respondents had become less bullish about economic growth next year. The forecasters expect gross domestic product, the country's output of goods and services, to expand 3.6 percent in 2021, down from a forecast of 4.8 percent growth in June. They see GDP falling 3.8 percent this year. \u001b[38;5;4m\u001b[48;5;240mMohamad Ali, the chief executive of IDG, a Framingham tech research and media company\u001b[0;0m, said that while \u001b[38;5;4m\u001b[48;5;240mhis\u001b[0;0m firm and the broader tech sector have been resilient during the pandemic, a new stimulus package is important because “we are all dependent on a functioning economy.” “As the pandemic drags on, the stimulus becomes even more important to individual families, businesses, and the broader economy,” said Ali.\n"
     ]
    }
   ],
   "source": [
    "print(coref(4,df))"
   ]
  }
 ],
 "metadata": {
  "interpreter": {
   "hash": "8a657daffbadbb687420035ea6cc897d4282c9e980605e2a6478a41911dd8a66"
  },
  "kernelspec": {
   "display_name": "Python 3.7.11 64-bit ('ncorrefEnv': conda)",
   "name": "python3"
  },
  "language_info": {
   "codemirror_mode": {
    "name": "ipython",
    "version": 3
   },
   "file_extension": ".py",
   "mimetype": "text/x-python",
   "name": "python",
   "nbconvert_exporter": "python",
   "pygments_lexer": "ipython3",
   "version": "3.7.11"
  },
  "orig_nbformat": 4
 },
 "nbformat": 4,
 "nbformat_minor": 2
}
