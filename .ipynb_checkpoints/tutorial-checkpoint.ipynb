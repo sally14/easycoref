{
 "cells": [
  {
   "cell_type": "code",
   "execution_count": 2,
   "metadata": {},
   "outputs": [
    {
     "name": "stderr",
     "output_type": "stream",
     "text": [
      "/sps/humanum/user/sdo/anaconda/envs/coref_clem/lib/python3.7/importlib/_bootstrap.py:219: RuntimeWarning: spacy.morphology.Morphology size changed, may indicate binary incompatibility. Expected 104 from C header, got 112 from PyObject\n",
      "  return f(*args, **kwds)\n",
      "/sps/humanum/user/sdo/anaconda/envs/coref_clem/lib/python3.7/importlib/_bootstrap.py:219: RuntimeWarning: spacy.vocab.Vocab size changed, may indicate binary incompatibility. Expected 96 from C header, got 112 from PyObject\n",
      "  return f(*args, **kwds)\n",
      "/sps/humanum/user/sdo/anaconda/envs/coref_clem/lib/python3.7/importlib/_bootstrap.py:219: RuntimeWarning: spacy.tokens.span.Span size changed, may indicate binary incompatibility. Expected 72 from C header, got 80 from PyObject\n",
      "  return f(*args, **kwds)\n",
      "INFO:neuralcoref:Loading model from /pbs/home/s/sdo/.neuralcoref_cache/neuralcoref\n"
     ]
    }
   ],
   "source": [
    "%load_ext autoreload\n",
    "%autoreload 2\n",
    "import pandas as pd\n",
    "import numpy as np\n",
    "import sys\n",
    "sys.path.append('.')\n",
    "from Coref import CorefModel"
   ]
  },
  {
   "cell_type": "code",
   "execution_count": 3,
   "metadata": {},
   "outputs": [
    {
     "data": {
      "text/html": [
       "<div>\n",
       "<style scoped>\n",
       "    .dataframe tbody tr th:only-of-type {\n",
       "        vertical-align: middle;\n",
       "    }\n",
       "\n",
       "    .dataframe tbody tr th {\n",
       "        vertical-align: top;\n",
       "    }\n",
       "\n",
       "    .dataframe thead th {\n",
       "        text-align: right;\n",
       "    }\n",
       "</style>\n",
       "<table border=\"1\" class=\"dataframe\">\n",
       "  <thead>\n",
       "    <tr style=\"text-align: right;\">\n",
       "      <th></th>\n",
       "      <th>id</th>\n",
       "      <th>text</th>\n",
       "      <th>annotations</th>\n",
       "      <th>meta</th>\n",
       "      <th>annotation_approver</th>\n",
       "    </tr>\n",
       "  </thead>\n",
       "  <tbody>\n",
       "    <tr>\n",
       "      <th>0</th>\n",
       "      <td>151</td>\n",
       "      <td>Hong Kong, with a population of around 7.5 mil...</td>\n",
       "      <td>[{'label': 15, 'start_offset': 700, 'end_offse...</td>\n",
       "      <td>{}</td>\n",
       "      <td>NaN</td>\n",
       "    </tr>\n",
       "    <tr>\n",
       "      <th>1</th>\n",
       "      <td>152</td>\n",
       "      <td>Social distancing restrictions meant some sena...</td>\n",
       "      <td>[{'label': 14, 'start_offset': 317, 'end_offse...</td>\n",
       "      <td>{}</td>\n",
       "      <td>NaN</td>\n",
       "    </tr>\n",
       "    <tr>\n",
       "      <th>2</th>\n",
       "      <td>153</td>\n",
       "      <td>The history of humanity is the history of impa...</td>\n",
       "      <td>[{'label': 14, 'start_offset': 127, 'end_offse...</td>\n",
       "      <td>{}</td>\n",
       "      <td>NaN</td>\n",
       "    </tr>\n",
       "    <tr>\n",
       "      <th>3</th>\n",
       "      <td>154</td>\n",
       "      <td>Associated Press Florida judge blocks state or...</td>\n",
       "      <td>[{'label': 14, 'start_offset': 228, 'end_offse...</td>\n",
       "      <td>{}</td>\n",
       "      <td>NaN</td>\n",
       "    </tr>\n",
       "    <tr>\n",
       "      <th>4</th>\n",
       "      <td>155</td>\n",
       "      <td>“This is a serious setback in a delicate stage...</td>\n",
       "      <td>[{'label': 14, 'start_offset': 70, 'end_offset...</td>\n",
       "      <td>{}</td>\n",
       "      <td>NaN</td>\n",
       "    </tr>\n",
       "  </tbody>\n",
       "</table>\n",
       "</div>"
      ],
      "text/plain": [
       "    id                                               text  \\\n",
       "0  151  Hong Kong, with a population of around 7.5 mil...   \n",
       "1  152  Social distancing restrictions meant some sena...   \n",
       "2  153  The history of humanity is the history of impa...   \n",
       "3  154  Associated Press Florida judge blocks state or...   \n",
       "4  155  “This is a serious setback in a delicate stage...   \n",
       "\n",
       "                                         annotations meta  annotation_approver  \n",
       "0  [{'label': 15, 'start_offset': 700, 'end_offse...   {}                  NaN  \n",
       "1  [{'label': 14, 'start_offset': 317, 'end_offse...   {}                  NaN  \n",
       "2  [{'label': 14, 'start_offset': 127, 'end_offse...   {}                  NaN  \n",
       "3  [{'label': 14, 'start_offset': 228, 'end_offse...   {}                  NaN  \n",
       "4  [{'label': 14, 'start_offset': 70, 'end_offset...   {}                  NaN  "
      ]
     },
     "execution_count": 3,
     "metadata": {},
     "output_type": "execute_result"
    }
   ],
   "source": [
    "coref_model = CorefModel()\n",
    "coref_model.import_dataset('./annotated/annotated_examples.json', colnames=['text'], filetype='jsonl')\n",
    "coref_model.clean()\n",
    "coref_model.__transform_neuralcoref__()"
   ]
  },
  {
   "cell_type": "code",
   "execution_count": null,
   "metadata": {},
   "outputs": [],
   "source": []
  }
 ],
 "metadata": {
  "kernelspec": {
   "display_name": "Python 3 (ipykernel)",
   "language": "python",
   "name": "python3"
  },
  "language_info": {
   "codemirror_mode": {
    "name": "ipython",
    "version": 3
   },
   "file_extension": ".py",
   "mimetype": "text/x-python",
   "name": "python",
   "nbconvert_exporter": "python",
   "pygments_lexer": "ipython3",
   "version": "3.7.6"
  }
 },
 "nbformat": 4,
 "nbformat_minor": 2
}
